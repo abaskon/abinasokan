{
  "nbformat": 4,
  "nbformat_minor": 0,
  "metadata": {
    "colab": {
      "name": "unique_stations.ipynb",
      "provenance": [],
      "collapsed_sections": [],
      "authorship_tag": "ABX9TyP5ov1dM/6ZWuS88O66YcPW",
      "include_colab_link": true
    },
    "kernelspec": {
      "name": "python3",
      "display_name": "Python 3"
    },
    "language_info": {
      "name": "python"
    }
  },
  "cells": [
    {
      "cell_type": "markdown",
      "metadata": {
        "id": "view-in-github",
        "colab_type": "text"
      },
      "source": [
        "<a href=\"https://colab.research.google.com/github/abaskon/abinasokan/blob/main/unique_stations.ipynb\" target=\"_parent\"><img src=\"https://colab.research.google.com/assets/colab-badge.svg\" alt=\"Open In Colab\"/></a>"
      ]
    },
    {
      "cell_type": "code",
      "execution_count": 2,
      "metadata": {
        "id": "VwYrNb9reuaV"
      },
      "outputs": [],
      "source": [
        "import pandas as pd"
      ]
    },
    {
      "cell_type": "code",
      "source": [
        "df1 = pd.read_json('https://raw.githubusercontent.com/abaskon/abinasokan/main/Datas/1.json')\n",
        "df2 = pd.read_json('https://raw.githubusercontent.com/abaskon/abinasokan/main/Datas/2.json')\n",
        "df3 = pd.read_json('https://raw.githubusercontent.com/abaskon/abinasokan/main/Datas/3.json')\n",
        "df4 = pd.read_json('https://raw.githubusercontent.com/abaskon/abinasokan/main/Datas/4.json')\n",
        "df5 = pd.read_json('https://raw.githubusercontent.com/abaskon/abinasokan/main/Datas/5.json')\n",
        "df6 = pd.read_json('https://raw.githubusercontent.com/abaskon/abinasokan/main/Datas/6.json')\n",
        "\n",
        "df7 = pd.read_json('https://raw.githubusercontent.com/abaskon/abinasokan/main/Datas/7.json')\n",
        "df8 = pd.read_json('https://raw.githubusercontent.com/abaskon/abinasokan/main/Datas/8.json')\n",
        "df9 = pd.read_json('https://raw.githubusercontent.com/abaskon/abinasokan/main/Datas/9.json')\n",
        "df10 = pd.read_json('https://raw.githubusercontent.com/abaskon/abinasokan/main/Datas/10.json')\n",
        "df11= pd.read_json('https://raw.githubusercontent.com/abaskon/abinasokan/main/Datas/11.json')\n",
        "df12= pd.read_json('https://raw.githubusercontent.com/abaskon/abinasokan/main/Datas/12.json')\n",
        "\n",
        "df13= pd.read_json('https://raw.githubusercontent.com/abaskon/abinasokan/main/Datas/13.json')\n",
        "df14= pd.read_json('https://raw.githubusercontent.com/abaskon/abinasokan/main/Datas/14.json')\n",
        "df15= pd.read_json('https://raw.githubusercontent.com/abaskon/abinasokan/main/Datas/15.json')\n",
        "df16= pd.read_json('https://raw.githubusercontent.com/abaskon/abinasokan/main/Datas/16.json')\n",
        "df17= pd.read_json('https://raw.githubusercontent.com/abaskon/abinasokan/main/Datas/17.json')\n",
        "df18= pd.read_json('https://raw.githubusercontent.com/abaskon/abinasokan/main/Datas/18.json')\n",
        "\n",
        "df19= pd.read_json('https://raw.githubusercontent.com/abaskon/abinasokan/main/Datas/19.json')\n",
        "df20= pd.read_json('https://raw.githubusercontent.com/abaskon/abinasokan/main/Datas/20.json')\n",
        "df21= pd.read_json('https://raw.githubusercontent.com/abaskon/abinasokan/main/Datas/21.json')\n",
        "df22= pd.read_json('https://raw.githubusercontent.com/abaskon/abinasokan/main/Datas/22.json')\n",
        "df23= pd.read_json('https://raw.githubusercontent.com/abaskon/abinasokan/main/Datas/23.json')\n",
        "df24= pd.read_json('https://raw.githubusercontent.com/abaskon/abinasokan/main/Datas/24.json')"
      ],
      "metadata": {
        "id": "hhMYCncwe9Ol"
      },
      "execution_count": 3,
      "outputs": []
    },
    {
      "cell_type": "code",
      "source": [
        "df1.head()"
      ],
      "metadata": {
        "colab": {
          "base_uri": "https://localhost:8080/",
          "height": 336
        },
        "id": "yU-7l-1gfPM4",
        "outputId": "ff9e608c-b866-45b8-e217-523905b73305"
      },
      "execution_count": null,
      "outputs": [
        {
          "output_type": "execute_result",
          "data": {
            "text/html": [
              "\n",
              "  <div id=\"df-b323e205-50b8-436b-ae46-cb063c26126a\">\n",
              "    <div class=\"colab-df-container\">\n",
              "      <div>\n",
              "<style scoped>\n",
              "    .dataframe tbody tr th:only-of-type {\n",
              "        vertical-align: middle;\n",
              "    }\n",
              "\n",
              "    .dataframe tbody tr th {\n",
              "        vertical-align: top;\n",
              "    }\n",
              "\n",
              "    .dataframe thead th {\n",
              "        text-align: right;\n",
              "    }\n",
              "</style>\n",
              "<table border=\"1\" class=\"dataframe\">\n",
              "  <thead>\n",
              "    <tr style=\"text-align: right;\">\n",
              "      <th></th>\n",
              "      <th>access</th>\n",
              "      <th>address</th>\n",
              "      <th>icon</th>\n",
              "      <th>icon_type</th>\n",
              "      <th>id</th>\n",
              "      <th>latitude</th>\n",
              "      <th>longitude</th>\n",
              "      <th>name</th>\n",
              "      <th>stations</th>\n",
              "      <th>url</th>\n",
              "      <th>score</th>\n",
              "    </tr>\n",
              "  </thead>\n",
              "  <tbody>\n",
              "    <tr>\n",
              "      <th>0</th>\n",
              "      <td>1</td>\n",
              "      <td>Sivapuram, Kanchipuram, Tamil Nadu 631502</td>\n",
              "      <td>https://assets.plugshare.com/icons/G.png</td>\n",
              "      <td>G</td>\n",
              "      <td>110038</td>\n",
              "      <td>12.811470</td>\n",
              "      <td>79.709520</td>\n",
              "      <td>Adhinath Apartments</td>\n",
              "      <td>[{'id': 185879, 'outlets': [{'connector': 9, '...</td>\n",
              "      <td>http://api.plugshare.com/view/location/110038</td>\n",
              "      <td>NaN</td>\n",
              "    </tr>\n",
              "    <tr>\n",
              "      <th>1</th>\n",
              "      <td>1</td>\n",
              "      <td>Mata Amritanandamayi Math Main Rd, Amritapuri,...</td>\n",
              "      <td>https://assets.plugshare.com/icons/G.png</td>\n",
              "      <td>G</td>\n",
              "      <td>191390</td>\n",
              "      <td>9.087858</td>\n",
              "      <td>76.487230</td>\n",
              "      <td>Mata Amritanandamayi Math</td>\n",
              "      <td>[{'id': 401488, 'outlets': [{'connector': 9, '...</td>\n",
              "      <td>http://api.plugshare.com/view/location/191390</td>\n",
              "      <td>NaN</td>\n",
              "    </tr>\n",
              "    <tr>\n",
              "      <th>2</th>\n",
              "      <td>1</td>\n",
              "      <td>Melechowa South, Kannur, Kerala - 670331</td>\n",
              "      <td>https://assets.plugshare.com/icons/Y.png</td>\n",
              "      <td>Y</td>\n",
              "      <td>296298</td>\n",
              "      <td>11.868669</td>\n",
              "      <td>75.403228</td>\n",
              "      <td>KSEB Charging Station, Melechowa South, Kannur</td>\n",
              "      <td>[{'id': 653411, 'outlets': [{'connector': 13, ...</td>\n",
              "      <td>http://api.plugshare.com/view/location/296298</td>\n",
              "      <td>NaN</td>\n",
              "    </tr>\n",
              "    <tr>\n",
              "      <th>3</th>\n",
              "      <td>1</td>\n",
              "      <td>D23, Service Rd, Uchapatti, Tamil Nadu 625008,...</td>\n",
              "      <td>https://assets.plugshare.com/icons/Y.png</td>\n",
              "      <td>Y</td>\n",
              "      <td>312273</td>\n",
              "      <td>9.862437</td>\n",
              "      <td>78.021514</td>\n",
              "      <td>PPS MG Showroom Madurai</td>\n",
              "      <td>[{'id': 727441, 'outlets': [{'connector': 13, ...</td>\n",
              "      <td>http://api.plugshare.com/view/location/312273</td>\n",
              "      <td>NaN</td>\n",
              "    </tr>\n",
              "    <tr>\n",
              "      <th>4</th>\n",
              "      <td>1</td>\n",
              "      <td>No 1, Cuddalore Pondicherry, SH 49, Ariyankupp...</td>\n",
              "      <td>https://assets.plugshare.com/icons/Y.png</td>\n",
              "      <td>Y</td>\n",
              "      <td>305456</td>\n",
              "      <td>11.894537</td>\n",
              "      <td>79.802650</td>\n",
              "      <td>MG FPL Vehicles Tata Power FC</td>\n",
              "      <td>[{'id': 709070, 'outlets': [{'connector': 3, '...</td>\n",
              "      <td>http://api.plugshare.com/view/location/305456</td>\n",
              "      <td>9.0</td>\n",
              "    </tr>\n",
              "  </tbody>\n",
              "</table>\n",
              "</div>\n",
              "      <button class=\"colab-df-convert\" onclick=\"convertToInteractive('df-b323e205-50b8-436b-ae46-cb063c26126a')\"\n",
              "              title=\"Convert this dataframe to an interactive table.\"\n",
              "              style=\"display:none;\">\n",
              "        \n",
              "  <svg xmlns=\"http://www.w3.org/2000/svg\" height=\"24px\"viewBox=\"0 0 24 24\"\n",
              "       width=\"24px\">\n",
              "    <path d=\"M0 0h24v24H0V0z\" fill=\"none\"/>\n",
              "    <path d=\"M18.56 5.44l.94 2.06.94-2.06 2.06-.94-2.06-.94-.94-2.06-.94 2.06-2.06.94zm-11 1L8.5 8.5l.94-2.06 2.06-.94-2.06-.94L8.5 2.5l-.94 2.06-2.06.94zm10 10l.94 2.06.94-2.06 2.06-.94-2.06-.94-.94-2.06-.94 2.06-2.06.94z\"/><path d=\"M17.41 7.96l-1.37-1.37c-.4-.4-.92-.59-1.43-.59-.52 0-1.04.2-1.43.59L10.3 9.45l-7.72 7.72c-.78.78-.78 2.05 0 2.83L4 21.41c.39.39.9.59 1.41.59.51 0 1.02-.2 1.41-.59l7.78-7.78 2.81-2.81c.8-.78.8-2.07 0-2.86zM5.41 20L4 18.59l7.72-7.72 1.47 1.35L5.41 20z\"/>\n",
              "  </svg>\n",
              "      </button>\n",
              "      \n",
              "  <style>\n",
              "    .colab-df-container {\n",
              "      display:flex;\n",
              "      flex-wrap:wrap;\n",
              "      gap: 12px;\n",
              "    }\n",
              "\n",
              "    .colab-df-convert {\n",
              "      background-color: #E8F0FE;\n",
              "      border: none;\n",
              "      border-radius: 50%;\n",
              "      cursor: pointer;\n",
              "      display: none;\n",
              "      fill: #1967D2;\n",
              "      height: 32px;\n",
              "      padding: 0 0 0 0;\n",
              "      width: 32px;\n",
              "    }\n",
              "\n",
              "    .colab-df-convert:hover {\n",
              "      background-color: #E2EBFA;\n",
              "      box-shadow: 0px 1px 2px rgba(60, 64, 67, 0.3), 0px 1px 3px 1px rgba(60, 64, 67, 0.15);\n",
              "      fill: #174EA6;\n",
              "    }\n",
              "\n",
              "    [theme=dark] .colab-df-convert {\n",
              "      background-color: #3B4455;\n",
              "      fill: #D2E3FC;\n",
              "    }\n",
              "\n",
              "    [theme=dark] .colab-df-convert:hover {\n",
              "      background-color: #434B5C;\n",
              "      box-shadow: 0px 1px 3px 1px rgba(0, 0, 0, 0.15);\n",
              "      filter: drop-shadow(0px 1px 2px rgba(0, 0, 0, 0.3));\n",
              "      fill: #FFFFFF;\n",
              "    }\n",
              "  </style>\n",
              "\n",
              "      <script>\n",
              "        const buttonEl =\n",
              "          document.querySelector('#df-b323e205-50b8-436b-ae46-cb063c26126a button.colab-df-convert');\n",
              "        buttonEl.style.display =\n",
              "          google.colab.kernel.accessAllowed ? 'block' : 'none';\n",
              "\n",
              "        async function convertToInteractive(key) {\n",
              "          const element = document.querySelector('#df-b323e205-50b8-436b-ae46-cb063c26126a');\n",
              "          const dataTable =\n",
              "            await google.colab.kernel.invokeFunction('convertToInteractive',\n",
              "                                                     [key], {});\n",
              "          if (!dataTable) return;\n",
              "\n",
              "          const docLinkHtml = 'Like what you see? Visit the ' +\n",
              "            '<a target=\"_blank\" href=https://colab.research.google.com/notebooks/data_table.ipynb>data table notebook</a>'\n",
              "            + ' to learn more about interactive tables.';\n",
              "          element.innerHTML = '';\n",
              "          dataTable['output_type'] = 'display_data';\n",
              "          await google.colab.output.renderOutput(dataTable, element);\n",
              "          const docLink = document.createElement('div');\n",
              "          docLink.innerHTML = docLinkHtml;\n",
              "          element.appendChild(docLink);\n",
              "        }\n",
              "      </script>\n",
              "    </div>\n",
              "  </div>\n",
              "  "
            ],
            "text/plain": [
              "   access  ... score\n",
              "0       1  ...   NaN\n",
              "1       1  ...   NaN\n",
              "2       1  ...   NaN\n",
              "3       1  ...   NaN\n",
              "4       1  ...   9.0\n",
              "\n",
              "[5 rows x 11 columns]"
            ]
          },
          "metadata": {},
          "execution_count": 33
        }
      ]
    },
    {
      "cell_type": "code",
      "source": [
        "from geopy.geocoders import Nominatim"
      ],
      "metadata": {
        "id": "Oen5bG5fNdwx"
      },
      "execution_count": 4,
      "outputs": []
    },
    {
      "cell_type": "code",
      "source": [
        "FDB =pd.concat([df1,df2,df3,df4,df5,df6,df7,df8,df9,df10,df11,df12,df13,df14,df15,df16,df17,df18,df19,df20,df21,df22,df23,df24],join='outer').drop_duplicates(subset='id', keep=\"first\").reset_index(drop=True)\n"
      ],
      "metadata": {
        "id": "uYSVOzkSKm2b"
      },
      "execution_count": 6,
      "outputs": []
    },
    {
      "cell_type": "code",
      "source": [
        "FDB.info()"
      ],
      "metadata": {
        "colab": {
          "base_uri": "https://localhost:8080/"
        },
        "id": "C1Cw7Qlk_Dcs",
        "outputId": "958b3eb6-1e21-4c5d-c86c-ba501cbf0242"
      },
      "execution_count": 9,
      "outputs": [
        {
          "output_type": "stream",
          "name": "stdout",
          "text": [
            "<class 'pandas.core.frame.DataFrame'>\n",
            "RangeIndex: 1263 entries, 0 to 1262\n",
            "Data columns (total 11 columns):\n",
            " #   Column     Non-Null Count  Dtype  \n",
            "---  ------     --------------  -----  \n",
            " 0   access     1263 non-null   int64  \n",
            " 1   address    1263 non-null   object \n",
            " 2   icon       1263 non-null   object \n",
            " 3   icon_type  1263 non-null   object \n",
            " 4   id         1263 non-null   int64  \n",
            " 5   latitude   1263 non-null   float64\n",
            " 6   longitude  1263 non-null   float64\n",
            " 7   name       1263 non-null   object \n",
            " 8   stations   1263 non-null   object \n",
            " 9   url        1263 non-null   object \n",
            " 10  score      101 non-null    float64\n",
            "dtypes: float64(3), int64(2), object(6)\n",
            "memory usage: 108.7+ KB\n"
          ]
        }
      ]
    },
    {
      "cell_type": "code",
      "source": [
        "FDB.head()\n"
      ],
      "metadata": {
        "colab": {
          "base_uri": "https://localhost:8080/",
          "height": 336
        },
        "id": "Htu3LndNNkD7",
        "outputId": "425ec9b3-c82e-4320-a2cc-551f628f05ef"
      },
      "execution_count": 7,
      "outputs": [
        {
          "output_type": "execute_result",
          "data": {
            "text/html": [
              "\n",
              "  <div id=\"df-53bb2021-2acf-460a-b5e4-d615cad0eef3\">\n",
              "    <div class=\"colab-df-container\">\n",
              "      <div>\n",
              "<style scoped>\n",
              "    .dataframe tbody tr th:only-of-type {\n",
              "        vertical-align: middle;\n",
              "    }\n",
              "\n",
              "    .dataframe tbody tr th {\n",
              "        vertical-align: top;\n",
              "    }\n",
              "\n",
              "    .dataframe thead th {\n",
              "        text-align: right;\n",
              "    }\n",
              "</style>\n",
              "<table border=\"1\" class=\"dataframe\">\n",
              "  <thead>\n",
              "    <tr style=\"text-align: right;\">\n",
              "      <th></th>\n",
              "      <th>access</th>\n",
              "      <th>address</th>\n",
              "      <th>icon</th>\n",
              "      <th>icon_type</th>\n",
              "      <th>id</th>\n",
              "      <th>latitude</th>\n",
              "      <th>longitude</th>\n",
              "      <th>name</th>\n",
              "      <th>stations</th>\n",
              "      <th>url</th>\n",
              "      <th>score</th>\n",
              "    </tr>\n",
              "  </thead>\n",
              "  <tbody>\n",
              "    <tr>\n",
              "      <th>0</th>\n",
              "      <td>1</td>\n",
              "      <td>Sivapuram, Kanchipuram, Tamil Nadu 631502</td>\n",
              "      <td>https://assets.plugshare.com/icons/G.png</td>\n",
              "      <td>G</td>\n",
              "      <td>110038</td>\n",
              "      <td>12.811470</td>\n",
              "      <td>79.709520</td>\n",
              "      <td>Adhinath Apartments</td>\n",
              "      <td>[{'id': 185879, 'outlets': [{'connector': 9, '...</td>\n",
              "      <td>http://api.plugshare.com/view/location/110038</td>\n",
              "      <td>NaN</td>\n",
              "    </tr>\n",
              "    <tr>\n",
              "      <th>1</th>\n",
              "      <td>1</td>\n",
              "      <td>Mata Amritanandamayi Math Main Rd, Amritapuri,...</td>\n",
              "      <td>https://assets.plugshare.com/icons/G.png</td>\n",
              "      <td>G</td>\n",
              "      <td>191390</td>\n",
              "      <td>9.087858</td>\n",
              "      <td>76.487230</td>\n",
              "      <td>Mata Amritanandamayi Math</td>\n",
              "      <td>[{'id': 401488, 'outlets': [{'connector': 9, '...</td>\n",
              "      <td>http://api.plugshare.com/view/location/191390</td>\n",
              "      <td>NaN</td>\n",
              "    </tr>\n",
              "    <tr>\n",
              "      <th>2</th>\n",
              "      <td>1</td>\n",
              "      <td>Melechowa South, Kannur, Kerala - 670331</td>\n",
              "      <td>https://assets.plugshare.com/icons/Y.png</td>\n",
              "      <td>Y</td>\n",
              "      <td>296298</td>\n",
              "      <td>11.868669</td>\n",
              "      <td>75.403228</td>\n",
              "      <td>KSEB Charging Station, Melechowa South, Kannur</td>\n",
              "      <td>[{'id': 653411, 'outlets': [{'connector': 13, ...</td>\n",
              "      <td>http://api.plugshare.com/view/location/296298</td>\n",
              "      <td>NaN</td>\n",
              "    </tr>\n",
              "    <tr>\n",
              "      <th>3</th>\n",
              "      <td>1</td>\n",
              "      <td>D23, Service Rd, Uchapatti, Tamil Nadu 625008,...</td>\n",
              "      <td>https://assets.plugshare.com/icons/Y.png</td>\n",
              "      <td>Y</td>\n",
              "      <td>312273</td>\n",
              "      <td>9.862437</td>\n",
              "      <td>78.021514</td>\n",
              "      <td>PPS MG Showroom Madurai</td>\n",
              "      <td>[{'id': 727441, 'outlets': [{'connector': 13, ...</td>\n",
              "      <td>http://api.plugshare.com/view/location/312273</td>\n",
              "      <td>NaN</td>\n",
              "    </tr>\n",
              "    <tr>\n",
              "      <th>4</th>\n",
              "      <td>1</td>\n",
              "      <td>No 1, Cuddalore Pondicherry, SH 49, Ariyankupp...</td>\n",
              "      <td>https://assets.plugshare.com/icons/Y.png</td>\n",
              "      <td>Y</td>\n",
              "      <td>305456</td>\n",
              "      <td>11.894537</td>\n",
              "      <td>79.802650</td>\n",
              "      <td>MG FPL Vehicles Tata Power FC</td>\n",
              "      <td>[{'id': 709070, 'outlets': [{'connector': 3, '...</td>\n",
              "      <td>http://api.plugshare.com/view/location/305456</td>\n",
              "      <td>9.0</td>\n",
              "    </tr>\n",
              "  </tbody>\n",
              "</table>\n",
              "</div>\n",
              "      <button class=\"colab-df-convert\" onclick=\"convertToInteractive('df-53bb2021-2acf-460a-b5e4-d615cad0eef3')\"\n",
              "              title=\"Convert this dataframe to an interactive table.\"\n",
              "              style=\"display:none;\">\n",
              "        \n",
              "  <svg xmlns=\"http://www.w3.org/2000/svg\" height=\"24px\"viewBox=\"0 0 24 24\"\n",
              "       width=\"24px\">\n",
              "    <path d=\"M0 0h24v24H0V0z\" fill=\"none\"/>\n",
              "    <path d=\"M18.56 5.44l.94 2.06.94-2.06 2.06-.94-2.06-.94-.94-2.06-.94 2.06-2.06.94zm-11 1L8.5 8.5l.94-2.06 2.06-.94-2.06-.94L8.5 2.5l-.94 2.06-2.06.94zm10 10l.94 2.06.94-2.06 2.06-.94-2.06-.94-.94-2.06-.94 2.06-2.06.94z\"/><path d=\"M17.41 7.96l-1.37-1.37c-.4-.4-.92-.59-1.43-.59-.52 0-1.04.2-1.43.59L10.3 9.45l-7.72 7.72c-.78.78-.78 2.05 0 2.83L4 21.41c.39.39.9.59 1.41.59.51 0 1.02-.2 1.41-.59l7.78-7.78 2.81-2.81c.8-.78.8-2.07 0-2.86zM5.41 20L4 18.59l7.72-7.72 1.47 1.35L5.41 20z\"/>\n",
              "  </svg>\n",
              "      </button>\n",
              "      \n",
              "  <style>\n",
              "    .colab-df-container {\n",
              "      display:flex;\n",
              "      flex-wrap:wrap;\n",
              "      gap: 12px;\n",
              "    }\n",
              "\n",
              "    .colab-df-convert {\n",
              "      background-color: #E8F0FE;\n",
              "      border: none;\n",
              "      border-radius: 50%;\n",
              "      cursor: pointer;\n",
              "      display: none;\n",
              "      fill: #1967D2;\n",
              "      height: 32px;\n",
              "      padding: 0 0 0 0;\n",
              "      width: 32px;\n",
              "    }\n",
              "\n",
              "    .colab-df-convert:hover {\n",
              "      background-color: #E2EBFA;\n",
              "      box-shadow: 0px 1px 2px rgba(60, 64, 67, 0.3), 0px 1px 3px 1px rgba(60, 64, 67, 0.15);\n",
              "      fill: #174EA6;\n",
              "    }\n",
              "\n",
              "    [theme=dark] .colab-df-convert {\n",
              "      background-color: #3B4455;\n",
              "      fill: #D2E3FC;\n",
              "    }\n",
              "\n",
              "    [theme=dark] .colab-df-convert:hover {\n",
              "      background-color: #434B5C;\n",
              "      box-shadow: 0px 1px 3px 1px rgba(0, 0, 0, 0.15);\n",
              "      filter: drop-shadow(0px 1px 2px rgba(0, 0, 0, 0.3));\n",
              "      fill: #FFFFFF;\n",
              "    }\n",
              "  </style>\n",
              "\n",
              "      <script>\n",
              "        const buttonEl =\n",
              "          document.querySelector('#df-53bb2021-2acf-460a-b5e4-d615cad0eef3 button.colab-df-convert');\n",
              "        buttonEl.style.display =\n",
              "          google.colab.kernel.accessAllowed ? 'block' : 'none';\n",
              "\n",
              "        async function convertToInteractive(key) {\n",
              "          const element = document.querySelector('#df-53bb2021-2acf-460a-b5e4-d615cad0eef3');\n",
              "          const dataTable =\n",
              "            await google.colab.kernel.invokeFunction('convertToInteractive',\n",
              "                                                     [key], {});\n",
              "          if (!dataTable) return;\n",
              "\n",
              "          const docLinkHtml = 'Like what you see? Visit the ' +\n",
              "            '<a target=\"_blank\" href=https://colab.research.google.com/notebooks/data_table.ipynb>data table notebook</a>'\n",
              "            + ' to learn more about interactive tables.';\n",
              "          element.innerHTML = '';\n",
              "          dataTable['output_type'] = 'display_data';\n",
              "          await google.colab.output.renderOutput(dataTable, element);\n",
              "          const docLink = document.createElement('div');\n",
              "          docLink.innerHTML = docLinkHtml;\n",
              "          element.appendChild(docLink);\n",
              "        }\n",
              "      </script>\n",
              "    </div>\n",
              "  </div>\n",
              "  "
            ],
            "text/plain": [
              "   access  ... score\n",
              "0       1  ...   NaN\n",
              "1       1  ...   NaN\n",
              "2       1  ...   NaN\n",
              "3       1  ...   NaN\n",
              "4       1  ...   9.0\n",
              "\n",
              "[5 rows x 11 columns]"
            ]
          },
          "metadata": {},
          "execution_count": 7
        }
      ]
    },
    {
      "cell_type": "code",
      "source": [
        "geolocator = Nominatim(user_agent=\"geoapiExercises\")\n",
        "\n",
        "#FDB=FDB.head(100)\n",
        "\n",
        "FDB[\"country\"] = \"\"\n",
        "\n",
        "for i in range(len(FDB.country)):\n",
        "  FDB.country[i]= (geolocator.reverse(str(FDB.latitude[i])+\",\"+str(FDB.longitude[i]))).raw['address'].get('country')\n",
        "\n"
      ],
      "metadata": {
        "colab": {
          "base_uri": "https://localhost:8080/"
        },
        "id": "PyxMiGKpNiHQ",
        "outputId": "e629c455-fe34-416f-b4bc-4d552024334e"
      },
      "execution_count": 10,
      "outputs": [
        {
          "output_type": "stream",
          "name": "stderr",
          "text": [
            "/usr/local/lib/python3.7/dist-packages/ipykernel_launcher.py:8: SettingWithCopyWarning: \n",
            "A value is trying to be set on a copy of a slice from a DataFrame\n",
            "\n",
            "See the caveats in the documentation: https://pandas.pydata.org/pandas-docs/stable/user_guide/indexing.html#returning-a-view-versus-a-copy\n",
            "  \n"
          ]
        }
      ]
    },
    {
      "cell_type": "code",
      "source": [
        "FDB['country'].value_counts(ascending=True)"
      ],
      "metadata": {
        "colab": {
          "base_uri": "https://localhost:8080/"
        },
        "id": "6cAQG9-_OsDr",
        "outputId": "d4ce0079-a113-46cd-d272-437ca795b6d3"
      },
      "execution_count": 11,
      "outputs": [
        {
          "output_type": "execute_result",
          "data": {
            "text/plain": [
              "বাংলাদেশ                 3\n",
              "Bhutan                   3\n",
              "پاکستان                  5\n",
              "ශ්‍රී ලංකාව இலங்கை      13\n",
              "नेपाल                   49\n",
              "India                 1190\n",
              "Name: country, dtype: int64"
            ]
          },
          "metadata": {},
          "execution_count": 11
        }
      ]
    },
    {
      "cell_type": "code",
      "source": [
        "FDB = FDB[FDB.country == 'India']"
      ],
      "metadata": {
        "id": "2S-tgomCYFat"
      },
      "execution_count": 12,
      "outputs": []
    },
    {
      "cell_type": "code",
      "source": [
        "FDB['country'].value_counts(ascending=True)"
      ],
      "metadata": {
        "colab": {
          "base_uri": "https://localhost:8080/"
        },
        "id": "A1EsJXteYhjk",
        "outputId": "7a4057a3-e675-459d-f361-bc39794ad973"
      },
      "execution_count": 13,
      "outputs": [
        {
          "output_type": "execute_result",
          "data": {
            "text/plain": [
              "India    1190\n",
              "Name: country, dtype: int64"
            ]
          },
          "metadata": {},
          "execution_count": 13
        }
      ]
    },
    {
      "cell_type": "code",
      "source": [
        "FDB.to_csv('yay.csv')"
      ],
      "metadata": {
        "id": "2T7IvPMoX1-Q"
      },
      "execution_count": 14,
      "outputs": []
    }
  ]
}